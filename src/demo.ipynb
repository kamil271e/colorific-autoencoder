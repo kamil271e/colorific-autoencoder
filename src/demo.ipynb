{
 "cells": [
  {
   "cell_type": "code",
   "execution_count": null,
   "id": "f4f647f8-ca80-4330-a99a-e8174a167e3e",
   "metadata": {
    "tags": []
   },
   "outputs": [],
   "source": [
    "import torch\n",
    "import matplotlib.pyplot as plt\n",
    "from pytorch_lightning import Trainer\n",
    "from pytorch_lightning.callbacks import ProgressBar, ModelCheckpoint\n",
    "from utils.train_wrapper import AutoEncoder\n",
    "from utils.config import Config\n",
    "from processor.processor import DataModule"
   ]
  },
  {
   "cell_type": "markdown",
   "id": "47efb313-175a-4482-9f1b-8ba7919015c3",
   "metadata": {},
   "source": [
    "### Data Load"
   ]
  },
  {
   "cell_type": "code",
   "execution_count": null,
   "id": "1465ce34-0b4e-4316-a6ae-405db34cdeb4",
   "metadata": {},
   "outputs": [],
   "source": [
    "data_module = DataModule()\n",
    "train_loader = data_module.train_dataloader()"
   ]
  },
  {
   "cell_type": "code",
   "execution_count": null,
   "id": "356e0836-4e8e-4a37-a249-7b758c05a3c4",
   "metadata": {
    "tags": []
   },
   "outputs": [],
   "source": [
    "# X, y = next(iter(train_loader))\n",
    "# X.shape, y.shape, len(data_module.dataset)"
   ]
  },
  {
   "cell_type": "code",
   "execution_count": null,
   "id": "e72e1744-d0d3-4645-80f6-45eb94189777",
   "metadata": {
    "tags": []
   },
   "outputs": [],
   "source": [
    "data_module.plot_sample(12)"
   ]
  },
  {
   "cell_type": "markdown",
   "id": "0e366518-a61c-48ac-8c1c-5bd9ff6aad10",
   "metadata": {},
   "source": [
    "### Training"
   ]
  },
  {
   "cell_type": "code",
   "execution_count": null,
   "id": "c8659eed-b181-4bc2-8fef-3ed15a650024",
   "metadata": {},
   "outputs": [],
   "source": [
    "config = Config()\n",
    "model = AutoEncoder(**config.get_train_wrapper_args())\n",
    "trainer = Trainer(**config.get_trainer_args())\n",
    "trainer.fit(model)"
   ]
  },
  {
   "cell_type": "code",
   "execution_count": null,
   "id": "a5dd9cca-633b-4749-881e-88e967148997",
   "metadata": {},
   "outputs": [],
   "source": [
    "model.plot_loss()"
   ]
  },
  {
   "cell_type": "code",
   "execution_count": null,
   "id": "e0e06c9a-5f55-4351-9067-ccad146576a6",
   "metadata": {
    "tags": []
   },
   "outputs": [],
   "source": [
    "trainer.test(model)"
   ]
  },
  {
   "cell_type": "code",
   "execution_count": null,
   "id": "80b337d9-8e4d-47f6-a04e-bb3106e81a0a",
   "metadata": {
    "tags": []
   },
   "outputs": [],
   "source": [
    "model.visualize_predict(num_samples=2)"
   ]
  },
  {
   "cell_type": "code",
   "execution_count": null,
   "id": "1cc54942-92c2-4607-ab48-f77f7bffb10c",
   "metadata": {
    "tags": []
   },
   "outputs": [],
   "source": [
    "model.load_model()"
   ]
  }
 ],
 "metadata": {
  "kernelspec": {
   "display_name": "Python [conda env:data-science] *",
   "language": "python",
   "name": "conda-env-data-science-py"
  },
  "language_info": {
   "codemirror_mode": {
    "name": "ipython",
    "version": 3
   },
   "file_extension": ".py",
   "mimetype": "text/x-python",
   "name": "python",
   "nbconvert_exporter": "python",
   "pygments_lexer": "ipython3",
   "version": "3.9.17"
  }
 },
 "nbformat": 4,
 "nbformat_minor": 5
}
