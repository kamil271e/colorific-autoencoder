{
 "cells": [
  {
   "cell_type": "code",
   "execution_count": null,
   "id": "f4f647f8-ca80-4330-a99a-e8174a167e3e",
   "metadata": {
    "tags": []
   },
   "outputs": [],
   "source": [
    "import torch\n",
    "import matplotlib.pyplot as plt\n",
    "from pytorch_lightning import Trainer\n",
    "from pytorch_lightning.callbacks import ProgressBar, ModelCheckpoint\n",
    "from utils.train_wrapper import AutoEncoder\n",
    "from utils.config import Config\n",
    "from processor.processor import DataModule"
   ]
  },
  {
   "cell_type": "markdown",
   "id": "47efb313-175a-4482-9f1b-8ba7919015c3",
   "metadata": {},
   "source": [
    "### Data Load"
   ]
  },
  {
   "cell_type": "code",
   "execution_count": null,
   "id": "1465ce34-0b4e-4316-a6ae-405db34cdeb4",
   "metadata": {},
   "outputs": [],
   "source": [
    "# data_module = DataModule()\n",
    "# train_loader = data_module.train_dataloader()\n",
    "# data_module.plot_sample(12)"
   ]
  },
  {
   "cell_type": "code",
   "execution_count": null,
   "id": "356e0836-4e8e-4a37-a249-7b758c05a3c4",
   "metadata": {
    "tags": []
   },
   "outputs": [],
   "source": [
    "# X, y = next(iter(train_loader))\n",
    "# X.shape, y.shape, len(data_module.dataset)"
   ]
  },
  {
   "cell_type": "markdown",
   "id": "0e366518-a61c-48ac-8c1c-5bd9ff6aad10",
   "metadata": {},
   "source": [
    "### Training"
   ]
  },
  {
   "cell_type": "code",
   "execution_count": null,
   "id": "c8659eed-b181-4bc2-8fef-3ed15a650024",
   "metadata": {},
   "outputs": [],
   "source": [
    "# config = Config()\n",
    "# model = AutoEncoder(**config.get_train_wrapper_args())\n",
    "# model.load_model()\n",
    "# trainer = Trainer(**config.get_trainer_args())\n",
    "# trainer.fit(model)"
   ]
  },
  {
   "cell_type": "code",
   "execution_count": null,
   "id": "b12dcd2d-0b8b-422b-82d7-9d2322b79ca4",
   "metadata": {
    "tags": []
   },
   "outputs": [],
   "source": [
    "# trainer.test(model)\n",
    "# model.plot_loss()\n",
    "# model.visualize_predict(num_samples=8, batches=20)"
   ]
  },
  {
   "cell_type": "markdown",
   "id": "38982c9e-c53a-4b8a-a262-1218cb587336",
   "metadata": {},
   "source": [
    "### Regularization analysis"
   ]
  },
  {
   "cell_type": "code",
   "execution_count": null,
   "id": "7ecce894-d3b2-48ff-8978-c19207f8af0c",
   "metadata": {
    "tags": []
   },
   "outputs": [],
   "source": [
    "DROP_RATES = [0, 0.1, 0.2, 0.3, 0.4, 0.5, 0.6, 0.7, 0.8, 0.9]\n",
    "W_DECAY = [0, 1e-5, 1e-4, 1e-3, 1e-2, 1e-1]\n",
    "config = Config()"
   ]
  },
  {
   "cell_type": "code",
   "execution_count": null,
   "id": "e078297d-ce7b-44b8-97d8-450cf3104f18",
   "metadata": {
    "tags": []
   },
   "outputs": [],
   "source": [
    "for wd in W_DECAY:\n",
    "    config.WEIGHT_DECAY = wd\n",
    "    model = AutoEncoder(**config.get_train_wrapper_args())\n",
    "    trainer = Trainer(**config.get_trainer_args())\n",
    "    trainer.fit(model)"
   ]
  },
  {
   "cell_type": "code",
   "execution_count": null,
   "id": "2b4dbdb5-4fc5-4ee8-8e86-7e7f15d8829d",
   "metadata": {
    "tags": []
   },
   "outputs": [],
   "source": [
    "config.WEIGHT_DECAY = 0\n",
    "for d in DROP_RATES:\n",
    "    config.DROPOUT_RATE = d\n",
    "    model = AutoEncoder(**config.get_train_wrapper_args())\n",
    "    trainer = Trainer(**config.get_trainer_args())\n",
    "    trainer.fit(model)"
   ]
  },
  {
   "cell_type": "code",
   "execution_count": null,
   "id": "bd6de52e-fe9b-4ec6-98cf-74a4236e470e",
   "metadata": {},
   "outputs": [],
   "source": [
    "%load_ext tensorboard"
   ]
  },
  {
   "cell_type": "code",
   "execution_count": null,
   "id": "8b82a8c5-8632-42ef-8996-91c19b827583",
   "metadata": {
    "tags": []
   },
   "outputs": [],
   "source": [
    "%tensorboard --logdir lightning_logs"
   ]
  }
 ],
 "metadata": {
  "kernelspec": {
   "display_name": "Python [conda env:data-science] *",
   "language": "python",
   "name": "conda-env-data-science-py"
  },
  "language_info": {
   "codemirror_mode": {
    "name": "ipython",
    "version": 3
   },
   "file_extension": ".py",
   "mimetype": "text/x-python",
   "name": "python",
   "nbconvert_exporter": "python",
   "pygments_lexer": "ipython3",
   "version": "3.9.17"
  }
 },
 "nbformat": 4,
 "nbformat_minor": 5
}
